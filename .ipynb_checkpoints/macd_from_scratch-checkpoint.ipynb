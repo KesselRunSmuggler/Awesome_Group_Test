{
 "cells": [
  {
   "cell_type": "code",
   "execution_count": 140,
   "id": "55d02cd7",
   "metadata": {},
   "outputs": [],
   "source": [
    "import pandas as pd\n",
    "import pandas_datareader as web\n",
    "import numpy as np\n",
    "import talib as ta\n",
    "import hvplot.pandas"
   ]
  },
  {
   "cell_type": "code",
   "execution_count": 141,
   "id": "24d4cfe6",
   "metadata": {},
   "outputs": [],
   "source": [
    "ticker = \"GOOG\""
   ]
  },
  {
   "cell_type": "code",
   "execution_count": 142,
   "id": "36fe047a",
   "metadata": {},
   "outputs": [],
   "source": [
    "start = '2020, 9, 27'\n",
    "end = '2021, 9, 27'"
   ]
  },
  {
   "cell_type": "code",
   "execution_count": 143,
   "id": "c321dcee",
   "metadata": {},
   "outputs": [],
   "source": [
    "stock = web.get_data_yahoo(ticker, start=start, end=end)['Adj Close'].reset_index()"
   ]
  },
  {
   "cell_type": "code",
   "execution_count": 144,
   "id": "e571ce08",
   "metadata": {},
   "outputs": [],
   "source": [
    "stock['Daily return'] = stock['Adj Close'].pct_change()"
   ]
  },
  {
   "cell_type": "code",
   "execution_count": 145,
   "id": "ba1c3209",
   "metadata": {},
   "outputs": [],
   "source": [
    "stock['Buy & hold return'] = (stock['Daily return'] + 1).cumprod()"
   ]
  },
  {
   "cell_type": "code",
   "execution_count": 146,
   "id": "a7fae0ed",
   "metadata": {},
   "outputs": [],
   "source": [
    "stock['MACD'], stock['MACD signal'], macdhist = ta.MACD(stock['Adj Close'], fastperiod=12, slowperiod=26, signalperiod=9)"
   ]
  },
  {
   "cell_type": "code",
   "execution_count": 147,
   "id": "51f949ed",
   "metadata": {},
   "outputs": [],
   "source": [
    "stock['Buy or sell'] = 0"
   ]
  },
  {
   "cell_type": "code",
   "execution_count": 148,
   "id": "7f680170",
   "metadata": {},
   "outputs": [],
   "source": [
    "stock.loc[stock['MACD'] > stock['MACD signal'], 'Buy or sell'] = 1\n",
    "stock.loc[stock['MACD'] < stock['MACD signal'], 'Buy or sell'] = -1"
   ]
  },
  {
   "cell_type": "code",
   "execution_count": 149,
   "id": "9681c666",
   "metadata": {},
   "outputs": [],
   "source": [
    "stock['Strategy return'] = stock['Daily return'] * stock['Buy or sell'].shift(1)"
   ]
  },
  {
   "cell_type": "code",
   "execution_count": 150,
   "id": "793c5b7d",
   "metadata": {},
   "outputs": [],
   "source": [
    "stock['Cumulative strategy return'] = (stock['Strategy return'] + 1).cumprod()"
   ]
  },
  {
   "cell_type": "code",
   "execution_count": 151,
   "id": "2fc2dfb8",
   "metadata": {},
   "outputs": [
    {
     "data": {
      "text/plain": [
       "1.01500447708526"
      ]
     },
     "execution_count": 151,
     "metadata": {},
     "output_type": "execute_result"
    }
   ],
   "source": [
    "stock['Cumulative strategy return'].iloc[-1]"
   ]
  },
  {
   "cell_type": "code",
   "execution_count": 152,
   "id": "66f6f396",
   "metadata": {},
   "outputs": [
    {
     "data": {
      "text/plain": [
       "1.9323873909467377"
      ]
     },
     "execution_count": 152,
     "metadata": {},
     "output_type": "execute_result"
    }
   ],
   "source": [
    "stock['Buy & hold return'].iloc[-1]"
   ]
  },
  {
   "cell_type": "code",
   "execution_count": 153,
   "id": "d715015a",
   "metadata": {},
   "outputs": [
    {
     "data": {},
     "metadata": {},
     "output_type": "display_data"
    },
    {
     "data": {
      "application/vnd.holoviews_exec.v0+json": "",
      "text/html": [
       "<div id='4062'>\n",
       "\n",
       "\n",
       "\n",
       "\n",
       "\n",
       "  <div class=\"bk-root\" id=\"fc78b415-72fe-4a11-a488-527d148e50c4\" data-root-id=\"4062\"></div>\n",
       "</div>\n",
       "<script type=\"application/javascript\">(function(root) {\n",
       "  function embed_document(root) {\n",
       "    var docs_json = {\"541ea577-209c-4c96-8c73-d1977287d873\":{\"defs\":[{\"extends\":null,\"module\":null,\"name\":\"DataModel\",\"overrides\":[],\"properties\":[]},{\"extends\":{\"module\":null,\"name\":\"DataModel\"},\"module\":null,\"name\":\"ReactiveHTML1\",\"overrides\":[],\"properties\":[]},{\"extends\":{\"module\":null,\"name\":\"DataModel\"},\"module\":null,\"name\":\"FlexBox1\",\"overrides\":[],\"properties\":[{\"default\":\"flex-start\",\"kind\":null,\"name\":\"align_items\"},{\"default\":\"flex-start\",\"kind\":null,\"name\":\"justify_content\"},{\"default\":\"row\",\"kind\":null,\"name\":\"flex_direction\"},{\"default\":\"wrap\",\"kind\":null,\"name\":\"flex_wrap\"},{\"default\":\"flex-start\",\"kind\":null,\"name\":\"align_content\"}]},{\"extends\":{\"module\":null,\"name\":\"DataModel\"},\"module\":null,\"name\":\"TemplateActions1\",\"overrides\":[],\"properties\":[{\"default\":0,\"kind\":null,\"name\":\"open_modal\"},{\"default\":0,\"kind\":null,\"name\":\"close_modal\"}]},{\"extends\":{\"module\":null,\"name\":\"DataModel\"},\"module\":null,\"name\":\"MaterialTemplateActions1\",\"overrides\":[],\"properties\":[{\"default\":0,\"kind\":null,\"name\":\"open_modal\"},{\"default\":0,\"kind\":null,\"name\":\"close_modal\"}]}],\"roots\":{\"references\":[{\"attributes\":{\"margin\":[5,5,5,5],\"name\":\"HSpacer06993\",\"sizing_mode\":\"stretch_width\"},\"id\":\"4063\",\"type\":\"Spacer\"},{\"attributes\":{\"line_alpha\":0.1,\"line_color\":\"#30a2da\",\"line_width\":2,\"x\":{\"field\":\"index\"},\"y\":{\"field\":\"value\"}},\"id\":\"4108\",\"type\":\"Line\"},{\"attributes\":{},\"id\":\"4078\",\"type\":\"BasicTicker\"},{\"attributes\":{\"axis_label\":\"\",\"formatter\":{\"id\":\"4103\"},\"major_label_policy\":{\"id\":\"4101\"},\"ticker\":{\"id\":\"4082\"}},\"id\":\"4081\",\"type\":\"LinearAxis\"},{\"attributes\":{\"end\":251.0,\"reset_end\":251.0,\"reset_start\":0.0,\"tags\":[[[\"index\",\"index\",null]]]},\"id\":\"4064\",\"type\":\"Range1d\"},{\"attributes\":{\"data_source\":{\"id\":\"4104\"},\"glyph\":{\"id\":\"4107\"},\"hover_glyph\":null,\"muted_glyph\":{\"id\":\"4109\"},\"nonselection_glyph\":{\"id\":\"4108\"},\"selection_glyph\":{\"id\":\"4124\"},\"view\":{\"id\":\"4111\"}},\"id\":\"4110\",\"type\":\"GlyphRenderer\"},{\"attributes\":{\"axis\":{\"id\":\"4077\"},\"grid_line_color\":null,\"ticker\":null},\"id\":\"4080\",\"type\":\"Grid\"},{\"attributes\":{\"line_alpha\":0.2,\"line_color\":\"#fc4f30\",\"line_width\":2,\"x\":{\"field\":\"index\"},\"y\":{\"field\":\"value\"}},\"id\":\"4130\",\"type\":\"Line\"},{\"attributes\":{\"below\":[{\"id\":\"4077\"}],\"center\":[{\"id\":\"4080\"},{\"id\":\"4084\"}],\"height\":300,\"left\":[{\"id\":\"4081\"}],\"margin\":[5,5,5,5],\"min_border_bottom\":10,\"min_border_left\":10,\"min_border_right\":10,\"min_border_top\":10,\"renderers\":[{\"id\":\"4110\"},{\"id\":\"4131\"}],\"right\":[{\"id\":\"4122\"}],\"sizing_mode\":\"fixed\",\"title\":{\"id\":\"4069\"},\"toolbar\":{\"id\":\"4091\"},\"width\":700,\"x_range\":{\"id\":\"4064\"},\"x_scale\":{\"id\":\"4073\"},\"y_range\":{\"id\":\"4065\"},\"y_scale\":{\"id\":\"4075\"}},\"id\":\"4068\",\"subtype\":\"Figure\",\"type\":\"Plot\"},{\"attributes\":{\"line_color\":\"#fc4f30\",\"line_width\":2,\"x\":{\"field\":\"index\"},\"y\":{\"field\":\"value\"}},\"id\":\"4128\",\"type\":\"Line\"},{\"attributes\":{\"data\":{\"Variable\":[\"Buy & hold return\",\"Buy & hold return\",\"Buy & hold return\",\"Buy & hold return\",\"Buy & hold return\",\"Buy & hold return\",\"Buy & hold return\",\"Buy & hold return\",\"Buy & hold return\",\"Buy & hold return\",\"Buy & hold return\",\"Buy & hold return\",\"Buy & hold return\",\"Buy & hold return\",\"Buy & hold return\",\"Buy & hold return\",\"Buy & hold return\",\"Buy & hold return\",\"Buy & hold return\",\"Buy & hold return\",\"Buy & hold return\",\"Buy & hold return\",\"Buy & hold return\",\"Buy & hold return\",\"Buy & hold return\",\"Buy & hold return\",\"Buy & hold return\",\"Buy & hold return\",\"Buy & hold return\",\"Buy & hold return\",\"Buy & hold return\",\"Buy & hold return\",\"Buy & hold return\",\"Buy & hold return\",\"Buy & hold return\",\"Buy & hold return\",\"Buy & hold return\",\"Buy & hold return\",\"Buy & hold return\",\"Buy & hold return\",\"Buy & hold return\",\"Buy & hold return\",\"Buy & hold return\",\"Buy & hold return\",\"Buy & hold return\",\"Buy & hold return\",\"Buy & hold return\",\"Buy & hold return\",\"Buy & hold return\",\"Buy & hold return\",\"Buy & hold return\",\"Buy & hold return\",\"Buy & hold return\",\"Buy & hold return\",\"Buy & hold return\",\"Buy & hold return\",\"Buy & hold return\",\"Buy & hold return\",\"Buy & hold return\",\"Buy & hold return\",\"Buy & hold return\",\"Buy & hold return\",\"Buy & hold return\",\"Buy & hold return\",\"Buy & hold return\",\"Buy & hold return\",\"Buy & hold return\",\"Buy & hold return\",\"Buy & hold return\",\"Buy & hold return\",\"Buy & hold return\",\"Buy & hold return\",\"Buy & hold return\",\"Buy & hold return\",\"Buy & hold return\",\"Buy & hold return\",\"Buy & hold return\",\"Buy & hold return\",\"Buy & hold return\",\"Buy & hold return\",\"Buy & hold return\",\"Buy & hold return\",\"Buy & hold return\",\"Buy & hold return\",\"Buy & hold return\",\"Buy & hold return\",\"Buy & hold return\",\"Buy & hold return\",\"Buy & hold return\",\"Buy & hold return\",\"Buy & hold return\",\"Buy & hold return\",\"Buy & hold return\",\"Buy & hold return\",\"Buy & hold return\",\"Buy & hold return\",\"Buy & hold return\",\"Buy & hold return\",\"Buy & hold return\",\"Buy & hold return\",\"Buy & hold return\",\"Buy & hold return\",\"Buy & hold return\",\"Buy & hold return\",\"Buy & hold return\",\"Buy & hold return\",\"Buy & hold return\",\"Buy & hold return\",\"Buy & hold return\",\"Buy & hold return\",\"Buy & hold return\",\"Buy & hold return\",\"Buy & hold return\",\"Buy & hold return\",\"Buy & hold return\",\"Buy & hold return\",\"Buy & hold return\",\"Buy & hold return\",\"Buy & hold return\",\"Buy & hold return\",\"Buy & hold return\",\"Buy & hold return\",\"Buy & hold return\",\"Buy & hold return\",\"Buy & hold return\",\"Buy & hold return\",\"Buy & hold return\",\"Buy & hold return\",\"Buy & hold return\",\"Buy & hold return\",\"Buy & hold return\",\"Buy & hold return\",\"Buy & hold return\",\"Buy & hold return\",\"Buy & hold return\",\"Buy & hold return\",\"Buy & hold return\",\"Buy & hold return\",\"Buy & hold return\",\"Buy & hold return\",\"Buy & hold return\",\"Buy & hold return\",\"Buy & hold return\",\"Buy & hold return\",\"Buy & hold return\",\"Buy & hold return\",\"Buy & hold return\",\"Buy & hold return\",\"Buy & hold return\",\"Buy & hold return\",\"Buy & hold return\",\"Buy & hold return\",\"Buy & hold return\",\"Buy & hold return\",\"Buy & hold return\",\"Buy & hold return\",\"Buy & hold return\",\"Buy & hold return\",\"Buy & hold return\",\"Buy & hold return\",\"Buy & hold return\",\"Buy & hold return\",\"Buy & hold return\",\"Buy & hold return\",\"Buy & hold return\",\"Buy & hold return\",\"Buy & hold return\",\"Buy & hold return\",\"Buy & hold return\",\"Buy & hold return\",\"Buy & hold return\",\"Buy & hold return\",\"Buy & hold return\",\"Buy & hold return\",\"Buy & hold return\",\"Buy & hold return\",\"Buy & hold return\",\"Buy & hold return\",\"Buy & hold return\",\"Buy & hold return\",\"Buy & hold return\",\"Buy & hold return\",\"Buy & hold return\",\"Buy & hold return\",\"Buy & hold return\",\"Buy & hold return\",\"Buy & hold return\",\"Buy & hold return\",\"Buy & hold return\",\"Buy & hold return\",\"Buy & hold return\",\"Buy & hold return\",\"Buy & hold return\",\"Buy & hold return\",\"Buy & hold return\",\"Buy & hold return\",\"Buy & hold return\",\"Buy & hold return\",\"Buy & hold return\",\"Buy & hold return\",\"Buy & hold return\",\"Buy & hold return\",\"Buy & hold return\",\"Buy & hold return\",\"Buy & hold return\",\"Buy & hold return\",\"Buy & hold return\",\"Buy & hold return\",\"Buy & hold return\",\"Buy & hold return\",\"Buy & hold return\",\"Buy & hold return\",\"Buy & hold return\",\"Buy & hold return\",\"Buy & hold return\",\"Buy & hold return\",\"Buy & hold return\",\"Buy & hold return\",\"Buy & hold return\",\"Buy & hold return\",\"Buy & hold return\",\"Buy & hold return\",\"Buy & hold return\",\"Buy & hold return\",\"Buy & hold return\",\"Buy & hold return\",\"Buy & hold return\",\"Buy & hold return\",\"Buy & hold return\",\"Buy & hold return\",\"Buy & hold return\",\"Buy & hold return\",\"Buy & hold return\",\"Buy & hold return\",\"Buy & hold return\",\"Buy & hold return\",\"Buy & hold return\",\"Buy & hold return\",\"Buy & hold return\",\"Buy & hold return\",\"Buy & hold return\",\"Buy & hold return\",\"Buy & hold return\",\"Buy & hold return\",\"Buy & hold return\",\"Buy & hold return\",\"Buy & hold return\",\"Buy & hold return\",\"Buy & hold return\",\"Buy & hold return\",\"Buy & hold return\",\"Buy & hold return\"],\"index\":[0,1,2,3,4,5,6,7,8,9,10,11,12,13,14,15,16,17,18,19,20,21,22,23,24,25,26,27,28,29,30,31,32,33,34,35,36,37,38,39,40,41,42,43,44,45,46,47,48,49,50,51,52,53,54,55,56,57,58,59,60,61,62,63,64,65,66,67,68,69,70,71,72,73,74,75,76,77,78,79,80,81,82,83,84,85,86,87,88,89,90,91,92,93,94,95,96,97,98,99,100,101,102,103,104,105,106,107,108,109,110,111,112,113,114,115,116,117,118,119,120,121,122,123,124,125,126,127,128,129,130,131,132,133,134,135,136,137,138,139,140,141,142,143,144,145,146,147,148,149,150,151,152,153,154,155,156,157,158,159,160,161,162,163,164,165,166,167,168,169,170,171,172,173,174,175,176,177,178,179,180,181,182,183,184,185,186,187,188,189,190,191,192,193,194,195,196,197,198,199,200,201,202,203,204,205,206,207,208,209,210,211,212,213,214,215,216,217,218,219,220,221,222,223,224,225,226,227,228,229,230,231,232,233,234,235,236,237,238,239,240,241,242,243,244,245,246,247,248,249,250,251],\"value\":{\"__ndarray__\":\"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\",\"dtype\":\"float64\",\"order\":\"little\",\"shape\":[252]}},\"selected\":{\"id\":\"4126\"},\"selection_policy\":{\"id\":\"4143\"}},\"id\":\"4125\",\"type\":\"ColumnDataSource\"},{\"attributes\":{\"label\":{\"value\":\"Buy & hold return\"},\"renderers\":[{\"id\":\"4131\"}]},\"id\":\"4145\",\"type\":\"LegendItem\"},{\"attributes\":{\"children\":[{\"id\":\"4063\"},{\"id\":\"4068\"},{\"id\":\"4255\"}],\"margin\":[0,0,0,0],\"name\":\"Row06989\",\"tags\":[\"embedded\"]},\"id\":\"4062\",\"type\":\"Row\"},{\"attributes\":{\"active_multi\":null,\"tools\":[{\"id\":\"4066\"},{\"id\":\"4085\"},{\"id\":\"4086\"},{\"id\":\"4087\"},{\"id\":\"4088\"},{\"id\":\"4089\"}]},\"id\":\"4091\",\"type\":\"Toolbar\"},{\"attributes\":{},\"id\":\"4082\",\"type\":\"BasicTicker\"},{\"attributes\":{\"axis\":{\"id\":\"4081\"},\"dimension\":1,\"grid_line_color\":null,\"ticker\":null},\"id\":\"4084\",\"type\":\"Grid\"},{\"attributes\":{\"data\":{\"Variable\":[\"Cumulative strategy return\",\"Cumulative strategy return\",\"Cumulative strategy return\",\"Cumulative strategy return\",\"Cumulative strategy return\",\"Cumulative strategy return\",\"Cumulative strategy return\",\"Cumulative strategy return\",\"Cumulative strategy return\",\"Cumulative strategy return\",\"Cumulative strategy return\",\"Cumulative strategy return\",\"Cumulative strategy return\",\"Cumulative strategy return\",\"Cumulative strategy return\",\"Cumulative strategy return\",\"Cumulative strategy return\",\"Cumulative strategy return\",\"Cumulative strategy return\",\"Cumulative strategy return\",\"Cumulative strategy return\",\"Cumulative strategy return\",\"Cumulative strategy return\",\"Cumulative strategy return\",\"Cumulative strategy return\",\"Cumulative strategy return\",\"Cumulative strategy return\",\"Cumulative strategy return\",\"Cumulative strategy return\",\"Cumulative strategy return\",\"Cumulative strategy return\",\"Cumulative strategy return\",\"Cumulative strategy return\",\"Cumulative strategy return\",\"Cumulative strategy return\",\"Cumulative strategy return\",\"Cumulative strategy return\",\"Cumulative strategy return\",\"Cumulative strategy return\",\"Cumulative strategy return\",\"Cumulative strategy return\",\"Cumulative strategy return\",\"Cumulative strategy return\",\"Cumulative strategy return\",\"Cumulative strategy return\",\"Cumulative strategy return\",\"Cumulative strategy return\",\"Cumulative strategy return\",\"Cumulative strategy return\",\"Cumulative strategy return\",\"Cumulative strategy return\",\"Cumulative strategy return\",\"Cumulative strategy return\",\"Cumulative strategy return\",\"Cumulative strategy return\",\"Cumulative strategy return\",\"Cumulative strategy return\",\"Cumulative strategy return\",\"Cumulative strategy return\",\"Cumulative strategy return\",\"Cumulative strategy return\",\"Cumulative strategy return\",\"Cumulative strategy return\",\"Cumulative strategy return\",\"Cumulative strategy return\",\"Cumulative strategy return\",\"Cumulative strategy return\",\"Cumulative strategy return\",\"Cumulative strategy return\",\"Cumulative strategy return\",\"Cumulative strategy return\",\"Cumulative strategy return\",\"Cumulative strategy return\",\"Cumulative strategy return\",\"Cumulative strategy return\",\"Cumulative strategy return\",\"Cumulative strategy return\",\"Cumulative strategy return\",\"Cumulative strategy return\",\"Cumulative strategy return\",\"Cumulative strategy return\",\"Cumulative strategy return\",\"Cumulative strategy return\",\"Cumulative strategy return\",\"Cumulative strategy return\",\"Cumulative strategy return\",\"Cumulative strategy return\",\"Cumulative strategy return\",\"Cumulative strategy return\",\"Cumulative strategy return\",\"Cumulative strategy return\",\"Cumulative strategy return\",\"Cumulative strategy return\",\"Cumulative strategy return\",\"Cumulative strategy return\",\"Cumulative strategy return\",\"Cumulative strategy return\",\"Cumulative strategy return\",\"Cumulative strategy return\",\"Cumulative strategy return\",\"Cumulative strategy return\",\"Cumulative strategy return\",\"Cumulative strategy return\",\"Cumulative strategy return\",\"Cumulative strategy return\",\"Cumulative strategy return\",\"Cumulative strategy return\",\"Cumulative strategy return\",\"Cumulative strategy return\",\"Cumulative strategy return\",\"Cumulative strategy return\",\"Cumulative strategy return\",\"Cumulative strategy return\",\"Cumulative strategy return\",\"Cumulative strategy return\",\"Cumulative strategy return\",\"Cumulative strategy return\",\"Cumulative strategy return\",\"Cumulative strategy return\",\"Cumulative strategy return\",\"Cumulative strategy return\",\"Cumulative strategy return\",\"Cumulative strategy return\",\"Cumulative strategy return\",\"Cumulative strategy return\",\"Cumulative strategy return\",\"Cumulative strategy return\",\"Cumulative strategy return\",\"Cumulative strategy return\",\"Cumulative strategy return\",\"Cumulative strategy return\",\"Cumulative strategy return\",\"Cumulative strategy return\",\"Cumulative strategy return\",\"Cumulative strategy return\",\"Cumulative strategy return\",\"Cumulative strategy return\",\"Cumulative strategy return\",\"Cumulative strategy return\",\"Cumulative strategy return\",\"Cumulative strategy return\",\"Cumulative strategy return\",\"Cumulative strategy return\",\"Cumulative strategy return\",\"Cumulative strategy return\",\"Cumulative strategy return\",\"Cumulative strategy return\",\"Cumulative strategy return\",\"Cumulative strategy return\",\"Cumulative strategy return\",\"Cumulative strategy return\",\"Cumulative strategy return\",\"Cumulative strategy return\",\"Cumulative strategy return\",\"Cumulative strategy return\",\"Cumulative strategy return\",\"Cumulative strategy return\",\"Cumulative strategy return\",\"Cumulative strategy return\",\"Cumulative strategy return\",\"Cumulative strategy return\",\"Cumulative strategy return\",\"Cumulative strategy return\",\"Cumulative strategy return\",\"Cumulative strategy return\",\"Cumulative strategy return\",\"Cumulative strategy return\",\"Cumulative strategy return\",\"Cumulative strategy return\",\"Cumulative strategy return\",\"Cumulative strategy return\",\"Cumulative strategy return\",\"Cumulative strategy return\",\"Cumulative strategy return\",\"Cumulative strategy return\",\"Cumulative strategy return\",\"Cumulative strategy return\",\"Cumulative strategy return\",\"Cumulative strategy return\",\"Cumulative strategy return\",\"Cumulative strategy return\",\"Cumulative strategy return\",\"Cumulative strategy return\",\"Cumulative strategy return\",\"Cumulative strategy return\",\"Cumulative strategy return\",\"Cumulative strategy return\",\"Cumulative strategy return\",\"Cumulative strategy return\",\"Cumulative strategy return\",\"Cumulative strategy return\",\"Cumulative strategy return\",\"Cumulative strategy return\",\"Cumulative strategy return\",\"Cumulative strategy return\",\"Cumulative strategy return\",\"Cumulative strategy return\",\"Cumulative strategy return\",\"Cumulative strategy return\",\"Cumulative strategy return\",\"Cumulative strategy return\",\"Cumulative strategy return\",\"Cumulative strategy return\",\"Cumulative strategy return\",\"Cumulative strategy return\",\"Cumulative strategy return\",\"Cumulative strategy return\",\"Cumulative strategy return\",\"Cumulative strategy return\",\"Cumulative strategy return\",\"Cumulative strategy return\",\"Cumulative strategy return\",\"Cumulative strategy return\",\"Cumulative strategy return\",\"Cumulative strategy return\",\"Cumulative strategy return\",\"Cumulative strategy return\",\"Cumulative strategy return\",\"Cumulative strategy return\",\"Cumulative strategy return\",\"Cumulative strategy return\",\"Cumulative strategy return\",\"Cumulative strategy return\",\"Cumulative strategy return\",\"Cumulative strategy return\",\"Cumulative strategy return\",\"Cumulative strategy return\",\"Cumulative strategy return\",\"Cumulative strategy return\",\"Cumulative strategy return\",\"Cumulative strategy return\",\"Cumulative strategy return\",\"Cumulative strategy return\",\"Cumulative strategy return\",\"Cumulative strategy return\",\"Cumulative strategy return\",\"Cumulative strategy return\",\"Cumulative strategy return\",\"Cumulative strategy return\",\"Cumulative strategy return\",\"Cumulative strategy return\",\"Cumulative strategy return\",\"Cumulative strategy return\",\"Cumulative strategy return\",\"Cumulative strategy return\",\"Cumulative strategy return\",\"Cumulative strategy return\",\"Cumulative strategy return\",\"Cumulative strategy return\",\"Cumulative strategy return\",\"Cumulative strategy return\",\"Cumulative strategy return\"],\"index\":[0,1,2,3,4,5,6,7,8,9,10,11,12,13,14,15,16,17,18,19,20,21,22,23,24,25,26,27,28,29,30,31,32,33,34,35,36,37,38,39,40,41,42,43,44,45,46,47,48,49,50,51,52,53,54,55,56,57,58,59,60,61,62,63,64,65,66,67,68,69,70,71,72,73,74,75,76,77,78,79,80,81,82,83,84,85,86,87,88,89,90,91,92,93,94,95,96,97,98,99,100,101,102,103,104,105,106,107,108,109,110,111,112,113,114,115,116,117,118,119,120,121,122,123,124,125,126,127,128,129,130,131,132,133,134,135,136,137,138,139,140,141,142,143,144,145,146,147,148,149,150,151,152,153,154,155,156,157,158,159,160,161,162,163,164,165,166,167,168,169,170,171,172,173,174,175,176,177,178,179,180,181,182,183,184,185,186,187,188,189,190,191,192,193,194,195,196,197,198,199,200,201,202,203,204,205,206,207,208,209,210,211,212,213,214,215,216,217,218,219,220,221,222,223,224,225,226,227,228,229,230,231,232,233,234,235,236,237,238,239,240,241,242,243,244,245,246,247,248,249,250,251],\"value\":{\"__ndarray__\":\"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\",\"dtype\":\"float64\",\"order\":\"little\",\"shape\":[252]}},\"selected\":{\"id\":\"4105\"},\"selection_policy\":{\"id\":\"4120\"}},\"id\":\"4104\",\"type\":\"ColumnDataSource\"},{\"attributes\":{\"bottom_units\":\"screen\",\"fill_alpha\":0.5,\"fill_color\":\"lightgrey\",\"left_units\":\"screen\",\"level\":\"overlay\",\"line_alpha\":1.0,\"line_color\":\"black\",\"line_dash\":[4,4],\"line_width\":2,\"right_units\":\"screen\",\"syncable\":false,\"top_units\":\"screen\"},\"id\":\"4090\",\"type\":\"BoxAnnotation\"},{\"attributes\":{\"data_source\":{\"id\":\"4125\"},\"glyph\":{\"id\":\"4128\"},\"hover_glyph\":null,\"muted_glyph\":{\"id\":\"4130\"},\"nonselection_glyph\":{\"id\":\"4129\"},\"selection_glyph\":{\"id\":\"4146\"},\"view\":{\"id\":\"4132\"}},\"id\":\"4131\",\"type\":\"GlyphRenderer\"},{\"attributes\":{\"line_color\":\"#30a2da\",\"line_width\":2,\"x\":{\"field\":\"index\"},\"y\":{\"field\":\"value\"}},\"id\":\"4107\",\"type\":\"Line\"},{\"attributes\":{\"line_color\":\"#30a2da\",\"line_width\":2,\"x\":{\"field\":\"index\"},\"y\":{\"field\":\"value\"}},\"id\":\"4124\",\"type\":\"Line\"},{\"attributes\":{\"callback\":null,\"renderers\":[{\"id\":\"4110\"},{\"id\":\"4131\"}],\"tags\":[\"hv_created\"],\"tooltips\":[[\"Variable\",\"@{Variable}\"],[\"index\",\"@{index}\"],[\"value\",\"@{value}\"]]},\"id\":\"4066\",\"type\":\"HoverTool\"},{\"attributes\":{},\"id\":\"4101\",\"type\":\"AllLabels\"},{\"attributes\":{},\"id\":\"4120\",\"type\":\"UnionRenderers\"},{\"attributes\":{},\"id\":\"4105\",\"type\":\"Selection\"},{\"attributes\":{},\"id\":\"4126\",\"type\":\"Selection\"},{\"attributes\":{\"text_color\":\"black\",\"text_font_size\":\"12pt\"},\"id\":\"4069\",\"type\":\"Title\"},{\"attributes\":{},\"id\":\"4143\",\"type\":\"UnionRenderers\"},{\"attributes\":{\"source\":{\"id\":\"4104\"}},\"id\":\"4111\",\"type\":\"CDSView\"},{\"attributes\":{\"label\":{\"value\":\"Cumulative strategy return\"},\"renderers\":[{\"id\":\"4110\"}]},\"id\":\"4123\",\"type\":\"LegendItem\"},{\"attributes\":{},\"id\":\"4085\",\"type\":\"SaveTool\"},{\"attributes\":{},\"id\":\"4103\",\"type\":\"BasicTickFormatter\"},{\"attributes\":{},\"id\":\"4086\",\"type\":\"PanTool\"},{\"attributes\":{},\"id\":\"4089\",\"type\":\"ResetTool\"},{\"attributes\":{\"line_color\":\"#fc4f30\",\"line_width\":2,\"x\":{\"field\":\"index\"},\"y\":{\"field\":\"value\"}},\"id\":\"4146\",\"type\":\"Line\"},{\"attributes\":{\"source\":{\"id\":\"4125\"}},\"id\":\"4132\",\"type\":\"CDSView\"},{\"attributes\":{},\"id\":\"4087\",\"type\":\"WheelZoomTool\"},{\"attributes\":{},\"id\":\"4100\",\"type\":\"BasicTickFormatter\"},{\"attributes\":{\"overlay\":{\"id\":\"4090\"}},\"id\":\"4088\",\"type\":\"BoxZoomTool\"},{\"attributes\":{\"margin\":[5,5,5,5],\"name\":\"HSpacer06994\",\"sizing_mode\":\"stretch_width\"},\"id\":\"4255\",\"type\":\"Spacer\"},{\"attributes\":{\"axis_label\":\"\",\"formatter\":{\"id\":\"4100\"},\"major_label_policy\":{\"id\":\"4098\"},\"ticker\":{\"id\":\"4078\"}},\"id\":\"4077\",\"type\":\"LinearAxis\"},{\"attributes\":{\"line_alpha\":0.2,\"line_color\":\"#30a2da\",\"line_width\":2,\"x\":{\"field\":\"index\"},\"y\":{\"field\":\"value\"}},\"id\":\"4109\",\"type\":\"Line\"},{\"attributes\":{\"line_alpha\":0.1,\"line_color\":\"#fc4f30\",\"line_width\":2,\"x\":{\"field\":\"index\"},\"y\":{\"field\":\"value\"}},\"id\":\"4129\",\"type\":\"Line\"},{\"attributes\":{},\"id\":\"4098\",\"type\":\"AllLabels\"},{\"attributes\":{},\"id\":\"4075\",\"type\":\"LinearScale\"},{\"attributes\":{\"click_policy\":\"mute\",\"items\":[{\"id\":\"4123\"},{\"id\":\"4145\"}],\"location\":[0,0],\"title\":\"Variable\"},\"id\":\"4122\",\"type\":\"Legend\"},{\"attributes\":{},\"id\":\"4073\",\"type\":\"LinearScale\"},{\"attributes\":{\"end\":2.099608409005077,\"reset_end\":2.099608409005077,\"reset_start\":0.8043434088798637,\"start\":0.8043434088798637,\"tags\":[[[\"value\",\"value\",null]]]},\"id\":\"4065\",\"type\":\"Range1d\"}],\"root_ids\":[\"4062\"]},\"title\":\"Bokeh Application\",\"version\":\"2.3.0\"}};\n",
       "    var render_items = [{\"docid\":\"541ea577-209c-4c96-8c73-d1977287d873\",\"root_ids\":[\"4062\"],\"roots\":{\"4062\":\"fc78b415-72fe-4a11-a488-527d148e50c4\"}}];\n",
       "    root.Bokeh.embed.embed_items_notebook(docs_json, render_items);\n",
       "  }\n",
       "  if (root.Bokeh !== undefined && root.Bokeh.Panel !== undefined) {\n",
       "    embed_document(root);\n",
       "  } else {\n",
       "    var attempts = 0;\n",
       "    var timer = setInterval(function(root) {\n",
       "      if (root.Bokeh !== undefined && root.Bokeh.Panel !== undefined) {\n",
       "        clearInterval(timer);\n",
       "        embed_document(root);\n",
       "      } else if (document.readyState == \"complete\") {\n",
       "        attempts++;\n",
       "        if (attempts > 200) {\n",
       "          clearInterval(timer);\n",
       "          console.log(\"Bokeh: ERROR: Unable to run BokehJS code because BokehJS library is missing\");\n",
       "        }\n",
       "      }\n",
       "    }, 25, root)\n",
       "  }\n",
       "})(window);</script>"
      ],
      "text/plain": [
       ":NdOverlay   [Variable]\n",
       "   :Curve   [index]   (value)"
      ]
     },
     "execution_count": 153,
     "metadata": {
      "application/vnd.holoviews_exec.v0+json": {
       "id": "4062"
      }
     },
     "output_type": "execute_result"
    }
   ],
   "source": [
    "stock[['Cumulative strategy return', 'Buy & hold return']].hvplot.line()"
   ]
  },
  {
   "cell_type": "code",
   "execution_count": 154,
   "id": "9af5b129",
   "metadata": {},
   "outputs": [
    {
     "data": {},
     "metadata": {},
     "output_type": "display_data"
    },
    {
     "data": {
      "application/vnd.holoviews_exec.v0+json": "",
      "text/html": [
       "<div id='4317'>\n",
       "\n",
       "\n",
       "\n",
       "\n",
       "\n",
       "  <div class=\"bk-root\" id=\"6379cebd-82da-4adc-9f82-ae95c2688167\" data-root-id=\"4317\"></div>\n",
       "</div>\n",
       "<script type=\"application/javascript\">(function(root) {\n",
       "  function embed_document(root) {\n",
       "    var docs_json = {\"d82645e0-5bf9-4873-9566-2dca110bf33c\":{\"defs\":[{\"extends\":null,\"module\":null,\"name\":\"DataModel\",\"overrides\":[],\"properties\":[]},{\"extends\":{\"module\":null,\"name\":\"DataModel\"},\"module\":null,\"name\":\"ReactiveHTML1\",\"overrides\":[],\"properties\":[]},{\"extends\":{\"module\":null,\"name\":\"DataModel\"},\"module\":null,\"name\":\"FlexBox1\",\"overrides\":[],\"properties\":[{\"default\":\"flex-start\",\"kind\":null,\"name\":\"align_items\"},{\"default\":\"flex-start\",\"kind\":null,\"name\":\"justify_content\"},{\"default\":\"row\",\"kind\":null,\"name\":\"flex_direction\"},{\"default\":\"wrap\",\"kind\":null,\"name\":\"flex_wrap\"},{\"default\":\"flex-start\",\"kind\":null,\"name\":\"align_content\"}]},{\"extends\":{\"module\":null,\"name\":\"DataModel\"},\"module\":null,\"name\":\"TemplateActions1\",\"overrides\":[],\"properties\":[{\"default\":0,\"kind\":null,\"name\":\"open_modal\"},{\"default\":0,\"kind\":null,\"name\":\"close_modal\"}]},{\"extends\":{\"module\":null,\"name\":\"DataModel\"},\"module\":null,\"name\":\"MaterialTemplateActions1\",\"overrides\":[],\"properties\":[{\"default\":0,\"kind\":null,\"name\":\"open_modal\"},{\"default\":0,\"kind\":null,\"name\":\"close_modal\"}]}],\"roots\":{\"references\":[{\"attributes\":{\"line_alpha\":0.1,\"line_color\":\"#fc4f30\",\"line_width\":2,\"x\":{\"field\":\"index\"},\"y\":{\"field\":\"value\"}},\"id\":\"4384\",\"type\":\"Line\"},{\"attributes\":{\"data_source\":{\"id\":\"4380\"},\"glyph\":{\"id\":\"4383\"},\"hover_glyph\":null,\"muted_glyph\":{\"id\":\"4385\"},\"nonselection_glyph\":{\"id\":\"4384\"},\"selection_glyph\":{\"id\":\"4401\"},\"view\":{\"id\":\"4387\"}},\"id\":\"4386\",\"type\":\"GlyphRenderer\"},{\"attributes\":{\"source\":{\"id\":\"4359\"}},\"id\":\"4366\",\"type\":\"CDSView\"},{\"attributes\":{\"data\":{\"Variable\":[\"MACD\",\"MACD\",\"MACD\",\"MACD\",\"MACD\",\"MACD\",\"MACD\",\"MACD\",\"MACD\",\"MACD\",\"MACD\",\"MACD\",\"MACD\",\"MACD\",\"MACD\",\"MACD\",\"MACD\",\"MACD\",\"MACD\",\"MACD\",\"MACD\",\"MACD\",\"MACD\",\"MACD\",\"MACD\",\"MACD\",\"MACD\",\"MACD\",\"MACD\",\"MACD\",\"MACD\",\"MACD\",\"MACD\",\"MACD\",\"MACD\",\"MACD\",\"MACD\",\"MACD\",\"MACD\",\"MACD\",\"MACD\",\"MACD\",\"MACD\",\"MACD\",\"MACD\",\"MACD\",\"MACD\",\"MACD\",\"MACD\",\"MACD\",\"MACD\",\"MACD\",\"MACD\",\"MACD\",\"MACD\",\"MACD\",\"MACD\",\"MACD\",\"MACD\",\"MACD\",\"MACD\",\"MACD\",\"MACD\",\"MACD\",\"MACD\",\"MACD\",\"MACD\",\"MACD\",\"MACD\",\"MACD\",\"MACD\",\"MACD\",\"MACD\",\"MACD\",\"MACD\",\"MACD\",\"MACD\",\"MACD\",\"MACD\",\"MACD\",\"MACD\",\"MACD\",\"MACD\",\"MACD\",\"MACD\",\"MACD\",\"MACD\",\"MACD\",\"MACD\",\"MACD\",\"MACD\",\"MACD\",\"MACD\",\"MACD\",\"MACD\",\"MACD\",\"MACD\",\"MACD\",\"MACD\",\"MACD\",\"MACD\",\"MACD\",\"MACD\",\"MACD\",\"MACD\",\"MACD\",\"MACD\",\"MACD\",\"MACD\",\"MACD\",\"MACD\",\"MACD\",\"MACD\",\"MACD\",\"MACD\",\"MACD\",\"MACD\",\"MACD\",\"MACD\",\"MACD\",\"MACD\",\"MACD\",\"MACD\",\"MACD\",\"MACD\",\"MACD\",\"MACD\",\"MACD\",\"MACD\",\"MACD\",\"MACD\",\"MACD\",\"MACD\",\"MACD\",\"MACD\",\"MACD\",\"MACD\",\"MACD\",\"MACD\",\"MACD\",\"MACD\",\"MACD\",\"MACD\",\"MACD\",\"MACD\",\"MACD\",\"MACD\",\"MACD\",\"MACD\",\"MACD\",\"MACD\",\"MACD\",\"MACD\",\"MACD\",\"MACD\",\"MACD\",\"MACD\",\"MACD\",\"MACD\",\"MACD\",\"MACD\",\"MACD\",\"MACD\",\"MACD\",\"MACD\",\"MACD\",\"MACD\",\"MACD\",\"MACD\",\"MACD\",\"MACD\",\"MACD\",\"MACD\",\"MACD\",\"MACD\",\"MACD\",\"MACD\",\"MACD\",\"MACD\",\"MACD\",\"MACD\",\"MACD\",\"MACD\",\"MACD\",\"MACD\",\"MACD\",\"MACD\",\"MACD\",\"MACD\",\"MACD\",\"MACD\",\"MACD\",\"MACD\",\"MACD\",\"MACD\",\"MACD\",\"MACD\",\"MACD\",\"MACD\",\"MACD\",\"MACD\",\"MACD\",\"MACD\",\"MACD\",\"MACD\",\"MACD\",\"MACD\",\"MACD\",\"MACD\",\"MACD\",\"MACD\",\"MACD\",\"MACD\",\"MACD\",\"MACD\",\"MACD\",\"MACD\",\"MACD\",\"MACD\",\"MACD\",\"MACD\",\"MACD\",\"MACD\",\"MACD\",\"MACD\",\"MACD\",\"MACD\",\"MACD\",\"MACD\",\"MACD\",\"MACD\",\"MACD\",\"MACD\",\"MACD\",\"MACD\",\"MACD\",\"MACD\",\"MACD\",\"MACD\",\"MACD\",\"MACD\",\"MACD\",\"MACD\",\"MACD\",\"MACD\",\"MACD\",\"MACD\",\"MACD\",\"MACD\",\"MACD\",\"MACD\",\"MACD\"],\"index\":[0,1,2,3,4,5,6,7,8,9,10,11,12,13,14,15,16,17,18,19,20,21,22,23,24,25,26,27,28,29,30,31,32,33,34,35,36,37,38,39,40,41,42,43,44,45,46,47,48,49,50,51,52,53,54,55,56,57,58,59,60,61,62,63,64,65,66,67,68,69,70,71,72,73,74,75,76,77,78,79,80,81,82,83,84,85,86,87,88,89,90,91,92,93,94,95,96,97,98,99,100,101,102,103,104,105,106,107,108,109,110,111,112,113,114,115,116,117,118,119,120,121,122,123,124,125,126,127,128,129,130,131,132,133,134,135,136,137,138,139,140,141,142,143,144,145,146,147,148,149,150,151,152,153,154,155,156,157,158,159,160,161,162,163,164,165,166,167,168,169,170,171,172,173,174,175,176,177,178,179,180,181,182,183,184,185,186,187,188,189,190,191,192,193,194,195,196,197,198,199,200,201,202,203,204,205,206,207,208,209,210,211,212,213,214,215,216,217,218,219,220,221,222,223,224,225,226,227,228,229,230,231,232,233,234,235,236,237,238,239,240,241,242,243,244,245,246,247,248,249,250,251],\"value\":{\"__ndarray__\":\"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\",\"dtype\":\"float64\",\"order\":\"little\",\"shape\":[252]}},\"selected\":{\"id\":\"4360\"},\"selection_policy\":{\"id\":\"4375\"}},\"id\":\"4359\",\"type\":\"ColumnDataSource\"},{\"attributes\":{\"axis\":{\"id\":\"4332\"},\"grid_line_color\":null,\"ticker\":null},\"id\":\"4335\",\"type\":\"Grid\"},{\"attributes\":{\"data\":{\"Variable\":[\"MACD signal\",\"MACD signal\",\"MACD signal\",\"MACD signal\",\"MACD signal\",\"MACD signal\",\"MACD signal\",\"MACD signal\",\"MACD signal\",\"MACD signal\",\"MACD signal\",\"MACD signal\",\"MACD signal\",\"MACD signal\",\"MACD signal\",\"MACD signal\",\"MACD signal\",\"MACD signal\",\"MACD signal\",\"MACD signal\",\"MACD signal\",\"MACD signal\",\"MACD signal\",\"MACD signal\",\"MACD signal\",\"MACD signal\",\"MACD signal\",\"MACD signal\",\"MACD signal\",\"MACD signal\",\"MACD signal\",\"MACD signal\",\"MACD signal\",\"MACD signal\",\"MACD signal\",\"MACD signal\",\"MACD signal\",\"MACD signal\",\"MACD signal\",\"MACD signal\",\"MACD signal\",\"MACD signal\",\"MACD signal\",\"MACD signal\",\"MACD signal\",\"MACD signal\",\"MACD signal\",\"MACD signal\",\"MACD signal\",\"MACD signal\",\"MACD signal\",\"MACD signal\",\"MACD signal\",\"MACD signal\",\"MACD signal\",\"MACD signal\",\"MACD signal\",\"MACD signal\",\"MACD signal\",\"MACD signal\",\"MACD signal\",\"MACD signal\",\"MACD signal\",\"MACD signal\",\"MACD signal\",\"MACD signal\",\"MACD signal\",\"MACD signal\",\"MACD signal\",\"MACD signal\",\"MACD signal\",\"MACD signal\",\"MACD signal\",\"MACD signal\",\"MACD signal\",\"MACD signal\",\"MACD signal\",\"MACD signal\",\"MACD signal\",\"MACD signal\",\"MACD signal\",\"MACD signal\",\"MACD signal\",\"MACD signal\",\"MACD signal\",\"MACD signal\",\"MACD signal\",\"MACD signal\",\"MACD signal\",\"MACD signal\",\"MACD signal\",\"MACD signal\",\"MACD signal\",\"MACD signal\",\"MACD signal\",\"MACD signal\",\"MACD signal\",\"MACD signal\",\"MACD signal\",\"MACD signal\",\"MACD signal\",\"MACD signal\",\"MACD signal\",\"MACD signal\",\"MACD signal\",\"MACD signal\",\"MACD signal\",\"MACD signal\",\"MACD signal\",\"MACD signal\",\"MACD signal\",\"MACD signal\",\"MACD signal\",\"MACD signal\",\"MACD signal\",\"MACD signal\",\"MACD signal\",\"MACD signal\",\"MACD signal\",\"MACD signal\",\"MACD signal\",\"MACD signal\",\"MACD signal\",\"MACD signal\",\"MACD signal\",\"MACD signal\",\"MACD signal\",\"MACD signal\",\"MACD signal\",\"MACD signal\",\"MACD signal\",\"MACD signal\",\"MACD signal\",\"MACD signal\",\"MACD signal\",\"MACD signal\",\"MACD signal\",\"MACD signal\",\"MACD signal\",\"MACD signal\",\"MACD signal\",\"MACD signal\",\"MACD signal\",\"MACD signal\",\"MACD signal\",\"MACD signal\",\"MACD signal\",\"MACD signal\",\"MACD signal\",\"MACD signal\",\"MACD signal\",\"MACD signal\",\"MACD signal\",\"MACD signal\",\"MACD signal\",\"MACD signal\",\"MACD signal\",\"MACD signal\",\"MACD signal\",\"MACD signal\",\"MACD signal\",\"MACD signal\",\"MACD signal\",\"MACD signal\",\"MACD signal\",\"MACD signal\",\"MACD signal\",\"MACD signal\",\"MACD signal\",\"MACD signal\",\"MACD signal\",\"MACD signal\",\"MACD signal\",\"MACD signal\",\"MACD signal\",\"MACD signal\",\"MACD signal\",\"MACD signal\",\"MACD signal\",\"MACD signal\",\"MACD signal\",\"MACD signal\",\"MACD signal\",\"MACD signal\",\"MACD signal\",\"MACD signal\",\"MACD signal\",\"MACD signal\",\"MACD signal\",\"MACD signal\",\"MACD signal\",\"MACD signal\",\"MACD signal\",\"MACD signal\",\"MACD signal\",\"MACD signal\",\"MACD signal\",\"MACD signal\",\"MACD signal\",\"MACD signal\",\"MACD signal\",\"MACD signal\",\"MACD signal\",\"MACD signal\",\"MACD signal\",\"MACD signal\",\"MACD signal\",\"MACD signal\",\"MACD signal\",\"MACD signal\",\"MACD signal\",\"MACD signal\",\"MACD signal\",\"MACD signal\",\"MACD signal\",\"MACD signal\",\"MACD signal\",\"MACD signal\",\"MACD signal\",\"MACD signal\",\"MACD signal\",\"MACD signal\",\"MACD signal\",\"MACD signal\",\"MACD signal\",\"MACD signal\",\"MACD signal\",\"MACD signal\",\"MACD signal\",\"MACD signal\",\"MACD signal\",\"MACD signal\",\"MACD signal\",\"MACD signal\",\"MACD signal\",\"MACD signal\",\"MACD signal\",\"MACD signal\",\"MACD signal\",\"MACD signal\",\"MACD signal\",\"MACD signal\",\"MACD signal\",\"MACD signal\",\"MACD signal\",\"MACD signal\",\"MACD signal\",\"MACD signal\",\"MACD signal\",\"MACD signal\",\"MACD signal\",\"MACD signal\"],\"index\":[0,1,2,3,4,5,6,7,8,9,10,11,12,13,14,15,16,17,18,19,20,21,22,23,24,25,26,27,28,29,30,31,32,33,34,35,36,37,38,39,40,41,42,43,44,45,46,47,48,49,50,51,52,53,54,55,56,57,58,59,60,61,62,63,64,65,66,67,68,69,70,71,72,73,74,75,76,77,78,79,80,81,82,83,84,85,86,87,88,89,90,91,92,93,94,95,96,97,98,99,100,101,102,103,104,105,106,107,108,109,110,111,112,113,114,115,116,117,118,119,120,121,122,123,124,125,126,127,128,129,130,131,132,133,134,135,136,137,138,139,140,141,142,143,144,145,146,147,148,149,150,151,152,153,154,155,156,157,158,159,160,161,162,163,164,165,166,167,168,169,170,171,172,173,174,175,176,177,178,179,180,181,182,183,184,185,186,187,188,189,190,191,192,193,194,195,196,197,198,199,200,201,202,203,204,205,206,207,208,209,210,211,212,213,214,215,216,217,218,219,220,221,222,223,224,225,226,227,228,229,230,231,232,233,234,235,236,237,238,239,240,241,242,243,244,245,246,247,248,249,250,251],\"value\":{\"__ndarray__\":\"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\",\"dtype\":\"float64\",\"order\":\"little\",\"shape\":[252]}},\"selected\":{\"id\":\"4381\"},\"selection_policy\":{\"id\":\"4398\"}},\"id\":\"4380\",\"type\":\"ColumnDataSource\"},{\"attributes\":{\"label\":{\"value\":\"MACD signal\"},\"renderers\":[{\"id\":\"4386\"}]},\"id\":\"4400\",\"type\":\"LegendItem\"},{\"attributes\":{\"margin\":[5,5,5,5],\"name\":\"HSpacer07438\",\"sizing_mode\":\"stretch_width\"},\"id\":\"4318\",\"type\":\"Spacer\"},{\"attributes\":{\"overlay\":{\"id\":\"4345\"}},\"id\":\"4343\",\"type\":\"BoxZoomTool\"},{\"attributes\":{\"text_color\":\"black\",\"text_font_size\":\"12pt\"},\"id\":\"4324\",\"type\":\"Title\"},{\"attributes\":{},\"id\":\"4381\",\"type\":\"Selection\"},{\"attributes\":{\"margin\":[5,5,5,5],\"name\":\"HSpacer07439\",\"sizing_mode\":\"stretch_width\"},\"id\":\"4510\",\"type\":\"Spacer\"},{\"attributes\":{},\"id\":\"4342\",\"type\":\"WheelZoomTool\"},{\"attributes\":{},\"id\":\"4344\",\"type\":\"ResetTool\"},{\"attributes\":{},\"id\":\"4341\",\"type\":\"PanTool\"},{\"attributes\":{\"line_color\":\"#30a2da\",\"line_width\":2,\"x\":{\"field\":\"index\"},\"y\":{\"field\":\"value\"}},\"id\":\"4362\",\"type\":\"Line\"},{\"attributes\":{},\"id\":\"4340\",\"type\":\"SaveTool\"},{\"attributes\":{},\"id\":\"4360\",\"type\":\"Selection\"},{\"attributes\":{},\"id\":\"4375\",\"type\":\"UnionRenderers\"},{\"attributes\":{\"data_source\":{\"id\":\"4359\"},\"glyph\":{\"id\":\"4362\"},\"hover_glyph\":null,\"muted_glyph\":{\"id\":\"4364\"},\"nonselection_glyph\":{\"id\":\"4363\"},\"selection_glyph\":{\"id\":\"4379\"},\"view\":{\"id\":\"4366\"}},\"id\":\"4365\",\"type\":\"GlyphRenderer\"},{\"attributes\":{\"line_color\":\"#fc4f30\",\"line_width\":2,\"x\":{\"field\":\"index\"},\"y\":{\"field\":\"value\"}},\"id\":\"4383\",\"type\":\"Line\"},{\"attributes\":{\"end\":94.56676422273604,\"reset_end\":94.56676422273604,\"reset_start\":-10.53112064173156,\"start\":-10.53112064173156,\"tags\":[[[\"value\",\"value\",null]]]},\"id\":\"4320\",\"type\":\"Range1d\"},{\"attributes\":{},\"id\":\"4355\",\"type\":\"BasicTickFormatter\"},{\"attributes\":{\"below\":[{\"id\":\"4332\"}],\"center\":[{\"id\":\"4335\"},{\"id\":\"4339\"}],\"height\":300,\"left\":[{\"id\":\"4336\"}],\"margin\":[5,5,5,5],\"min_border_bottom\":10,\"min_border_left\":10,\"min_border_right\":10,\"min_border_top\":10,\"renderers\":[{\"id\":\"4365\"},{\"id\":\"4386\"}],\"right\":[{\"id\":\"4377\"}],\"sizing_mode\":\"fixed\",\"title\":{\"id\":\"4324\"},\"toolbar\":{\"id\":\"4346\"},\"width\":700,\"x_range\":{\"id\":\"4319\"},\"x_scale\":{\"id\":\"4328\"},\"y_range\":{\"id\":\"4320\"},\"y_scale\":{\"id\":\"4330\"}},\"id\":\"4323\",\"subtype\":\"Figure\",\"type\":\"Plot\"},{\"attributes\":{},\"id\":\"4333\",\"type\":\"BasicTicker\"},{\"attributes\":{},\"id\":\"4356\",\"type\":\"AllLabels\"},{\"attributes\":{},\"id\":\"4328\",\"type\":\"LinearScale\"},{\"attributes\":{\"end\":251.0,\"reset_end\":251.0,\"reset_start\":0.0,\"tags\":[[[\"index\",\"index\",null]]]},\"id\":\"4319\",\"type\":\"Range1d\"},{\"attributes\":{\"click_policy\":\"mute\",\"items\":[{\"id\":\"4378\"},{\"id\":\"4400\"}],\"location\":[0,0],\"title\":\"Variable\"},\"id\":\"4377\",\"type\":\"Legend\"},{\"attributes\":{},\"id\":\"4398\",\"type\":\"UnionRenderers\"},{\"attributes\":{\"line_alpha\":0.1,\"line_color\":\"#30a2da\",\"line_width\":2,\"x\":{\"field\":\"index\"},\"y\":{\"field\":\"value\"}},\"id\":\"4363\",\"type\":\"Line\"},{\"attributes\":{\"line_alpha\":0.2,\"line_color\":\"#30a2da\",\"line_width\":2,\"x\":{\"field\":\"index\"},\"y\":{\"field\":\"value\"}},\"id\":\"4364\",\"type\":\"Line\"},{\"attributes\":{},\"id\":\"4353\",\"type\":\"AllLabels\"},{\"attributes\":{\"bottom_units\":\"screen\",\"fill_alpha\":0.5,\"fill_color\":\"lightgrey\",\"left_units\":\"screen\",\"level\":\"overlay\",\"line_alpha\":1.0,\"line_color\":\"black\",\"line_dash\":[4,4],\"line_width\":2,\"right_units\":\"screen\",\"syncable\":false,\"top_units\":\"screen\"},\"id\":\"4345\",\"type\":\"BoxAnnotation\"},{\"attributes\":{\"line_color\":\"#30a2da\",\"line_width\":2,\"x\":{\"field\":\"index\"},\"y\":{\"field\":\"value\"}},\"id\":\"4379\",\"type\":\"Line\"},{\"attributes\":{\"source\":{\"id\":\"4380\"}},\"id\":\"4387\",\"type\":\"CDSView\"},{\"attributes\":{\"callback\":null,\"renderers\":[{\"id\":\"4365\"},{\"id\":\"4386\"}],\"tags\":[\"hv_created\"],\"tooltips\":[[\"Variable\",\"@{Variable}\"],[\"index\",\"@{index}\"],[\"value\",\"@{value}\"]]},\"id\":\"4321\",\"type\":\"HoverTool\"},{\"attributes\":{\"line_alpha\":0.2,\"line_color\":\"#fc4f30\",\"line_width\":2,\"x\":{\"field\":\"index\"},\"y\":{\"field\":\"value\"}},\"id\":\"4385\",\"type\":\"Line\"},{\"attributes\":{\"children\":[{\"id\":\"4318\"},{\"id\":\"4323\"},{\"id\":\"4510\"}],\"margin\":[0,0,0,0],\"name\":\"Row07434\",\"tags\":[\"embedded\"]},\"id\":\"4317\",\"type\":\"Row\"},{\"attributes\":{\"active_multi\":null,\"tools\":[{\"id\":\"4321\"},{\"id\":\"4340\"},{\"id\":\"4341\"},{\"id\":\"4342\"},{\"id\":\"4343\"},{\"id\":\"4344\"}]},\"id\":\"4346\",\"type\":\"Toolbar\"},{\"attributes\":{\"axis_label\":\"\",\"formatter\":{\"id\":\"4355\"},\"major_label_policy\":{\"id\":\"4353\"},\"ticker\":{\"id\":\"4333\"}},\"id\":\"4332\",\"type\":\"LinearAxis\"},{\"attributes\":{\"axis\":{\"id\":\"4336\"},\"dimension\":1,\"grid_line_color\":null,\"ticker\":null},\"id\":\"4339\",\"type\":\"Grid\"},{\"attributes\":{\"line_color\":\"#fc4f30\",\"line_width\":2,\"x\":{\"field\":\"index\"},\"y\":{\"field\":\"value\"}},\"id\":\"4401\",\"type\":\"Line\"},{\"attributes\":{},\"id\":\"4358\",\"type\":\"BasicTickFormatter\"},{\"attributes\":{},\"id\":\"4337\",\"type\":\"BasicTicker\"},{\"attributes\":{\"label\":{\"value\":\"MACD\"},\"renderers\":[{\"id\":\"4365\"}]},\"id\":\"4378\",\"type\":\"LegendItem\"},{\"attributes\":{},\"id\":\"4330\",\"type\":\"LinearScale\"},{\"attributes\":{\"axis_label\":\"\",\"formatter\":{\"id\":\"4358\"},\"major_label_policy\":{\"id\":\"4356\"},\"ticker\":{\"id\":\"4337\"}},\"id\":\"4336\",\"type\":\"LinearAxis\"}],\"root_ids\":[\"4317\"]},\"title\":\"Bokeh Application\",\"version\":\"2.3.0\"}};\n",
       "    var render_items = [{\"docid\":\"d82645e0-5bf9-4873-9566-2dca110bf33c\",\"root_ids\":[\"4317\"],\"roots\":{\"4317\":\"6379cebd-82da-4adc-9f82-ae95c2688167\"}}];\n",
       "    root.Bokeh.embed.embed_items_notebook(docs_json, render_items);\n",
       "  }\n",
       "  if (root.Bokeh !== undefined && root.Bokeh.Panel !== undefined) {\n",
       "    embed_document(root);\n",
       "  } else {\n",
       "    var attempts = 0;\n",
       "    var timer = setInterval(function(root) {\n",
       "      if (root.Bokeh !== undefined && root.Bokeh.Panel !== undefined) {\n",
       "        clearInterval(timer);\n",
       "        embed_document(root);\n",
       "      } else if (document.readyState == \"complete\") {\n",
       "        attempts++;\n",
       "        if (attempts > 200) {\n",
       "          clearInterval(timer);\n",
       "          console.log(\"Bokeh: ERROR: Unable to run BokehJS code because BokehJS library is missing\");\n",
       "        }\n",
       "      }\n",
       "    }, 25, root)\n",
       "  }\n",
       "})(window);</script>"
      ],
      "text/plain": [
       ":NdOverlay   [Variable]\n",
       "   :Curve   [index]   (value)"
      ]
     },
     "execution_count": 154,
     "metadata": {
      "application/vnd.holoviews_exec.v0+json": {
       "id": "4317"
      }
     },
     "output_type": "execute_result"
    }
   ],
   "source": [
    "stock[['MACD', 'MACD signal']].hvplot.line()"
   ]
  },
  {
   "cell_type": "code",
   "execution_count": null,
   "id": "78bd2546",
   "metadata": {},
   "outputs": [],
   "source": []
  }
 ],
 "metadata": {
  "kernelspec": {
   "display_name": "Python [conda env:pyvizenv] *",
   "language": "python",
   "name": "conda-env-pyvizenv-py"
  },
  "language_info": {
   "codemirror_mode": {
    "name": "ipython",
    "version": 3
   },
   "file_extension": ".py",
   "mimetype": "text/x-python",
   "name": "python",
   "nbconvert_exporter": "python",
   "pygments_lexer": "ipython3",
   "version": "3.7.10"
  }
 },
 "nbformat": 4,
 "nbformat_minor": 5
}
